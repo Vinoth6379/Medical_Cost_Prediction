{
 "cells": [
  {
   "cell_type": "code",
   "execution_count": 1,
   "id": "5690cdec-e4b7-48ee-81d7-113e2f36144c",
   "metadata": {},
   "outputs": [],
   "source": [
    "import pandas as pd\n",
    "import numpy as np\n",
    "import matplotlib.pyplot as plt\n",
    "import seaborn as sns\n",
    "from sklearn.model_selection import train_test_split\n",
    "from sklearn.preprocessing  import OneHotEncoder,StandardScaler\n",
    "from sklearn.linear_model import LinearRegression,Ridge,Lasso\n",
    "from joblib import dump, load\n",
    "from sklearn.metrics import r2_score"
   ]
  },
  {
   "cell_type": "code",
   "execution_count": 2,
   "id": "3ef0dab0-9cc4-47a6-b0fc-03b9d241ccf0",
   "metadata": {},
   "outputs": [],
   "source": [
    "def test_pipeline(x_test_path,model):\n",
    "\n",
    "    #Read data\n",
    "    X=pd.read_csv(x_test_path)\n",
    "    # y_true=pd.read_csv(y_test_path)\n",
    "    \n",
    "    #seperate numerical and categorical columns\n",
    "    numerical_cols=X.select_dtypes(exclude='object')\n",
    "    categorical_cols=X.select_dtypes(include='object')\n",
    "    \n",
    "    # categorical -- encoding\n",
    "    encoder_model=load('one_hot_encoder.pkl')\n",
    "    col=encoder_model.get_feature_names_out()\n",
    "    transform=encoder_model.transform(categorical_cols).toarray()\n",
    "    categorical_encode_data=pd.DataFrame(transform,columns=col)\n",
    "\n",
    "    # numerical-- Scalling\n",
    "    model_scaling=load('standard_scaler.pkl')\n",
    "    scaled_data=model_scaling.transform(numerical_cols)\n",
    "    numerical_scaled_data=pd.DataFrame(scaled_data,columns=numerical_cols.columns)\n",
    "\n",
    "    # concat numerical and categorical data\n",
    "    Features=pd.concat([numerical_scaled_data,categorical_encode_data],axis=1)\n",
    "\n",
    "    # model testing\n",
    "    lr=load(model)\n",
    "    y_pred=pd.DataFrame(lr.predict(Features))\n",
    "    # test_score=r2_score(y_true, y_pred)*100\n",
    "    \n",
    "    return y_pred"
   ]
  },
  {
   "cell_type": "code",
   "execution_count": 3,
   "id": "6ac746f0-6bd2-4490-af71-c18ae77a65a9",
   "metadata": {},
   "outputs": [],
   "source": [
    "y_pred=test_pipeline(\"X_test.csv\",'RF.pkl')"
   ]
  },
  {
   "cell_type": "code",
   "execution_count": 4,
   "id": "244fce28-f429-4fd3-ad18-9ec07582b353",
   "metadata": {},
   "outputs": [
    {
     "data": {
      "text/html": [
       "<div>\n",
       "<style scoped>\n",
       "    .dataframe tbody tr th:only-of-type {\n",
       "        vertical-align: middle;\n",
       "    }\n",
       "\n",
       "    .dataframe tbody tr th {\n",
       "        vertical-align: top;\n",
       "    }\n",
       "\n",
       "    .dataframe thead th {\n",
       "        text-align: right;\n",
       "    }\n",
       "</style>\n",
       "<table border=\"1\" class=\"dataframe\">\n",
       "  <thead>\n",
       "    <tr style=\"text-align: right;\">\n",
       "      <th></th>\n",
       "      <th>0</th>\n",
       "    </tr>\n",
       "  </thead>\n",
       "  <tbody>\n",
       "    <tr>\n",
       "      <th>0</th>\n",
       "      <td>10411.665655</td>\n",
       "    </tr>\n",
       "    <tr>\n",
       "      <th>1</th>\n",
       "      <td>12281.427533</td>\n",
       "    </tr>\n",
       "    <tr>\n",
       "      <th>2</th>\n",
       "      <td>9225.750526</td>\n",
       "    </tr>\n",
       "    <tr>\n",
       "      <th>3</th>\n",
       "      <td>12240.034381</td>\n",
       "    </tr>\n",
       "    <tr>\n",
       "      <th>4</th>\n",
       "      <td>10307.357689</td>\n",
       "    </tr>\n",
       "    <tr>\n",
       "      <th>...</th>\n",
       "      <td>...</td>\n",
       "    </tr>\n",
       "    <tr>\n",
       "      <th>263</th>\n",
       "      <td>40831.695085</td>\n",
       "    </tr>\n",
       "    <tr>\n",
       "      <th>264</th>\n",
       "      <td>3089.384911</td>\n",
       "    </tr>\n",
       "    <tr>\n",
       "      <th>265</th>\n",
       "      <td>8007.377244</td>\n",
       "    </tr>\n",
       "    <tr>\n",
       "      <th>266</th>\n",
       "      <td>13548.373262</td>\n",
       "    </tr>\n",
       "    <tr>\n",
       "      <th>267</th>\n",
       "      <td>5000.298949</td>\n",
       "    </tr>\n",
       "  </tbody>\n",
       "</table>\n",
       "<p>268 rows × 1 columns</p>\n",
       "</div>"
      ],
      "text/plain": [
       "                0\n",
       "0    10411.665655\n",
       "1    12281.427533\n",
       "2     9225.750526\n",
       "3    12240.034381\n",
       "4    10307.357689\n",
       "..            ...\n",
       "263  40831.695085\n",
       "264   3089.384911\n",
       "265   8007.377244\n",
       "266  13548.373262\n",
       "267   5000.298949\n",
       "\n",
       "[268 rows x 1 columns]"
      ]
     },
     "execution_count": 4,
     "metadata": {},
     "output_type": "execute_result"
    }
   ],
   "source": [
    "y_pred"
   ]
  },
  {
   "cell_type": "code",
   "execution_count": null,
   "id": "481e1fb2-b33c-4217-a55d-0d94dfaf209a",
   "metadata": {},
   "outputs": [],
   "source": []
  }
 ],
 "metadata": {
  "kernelspec": {
   "display_name": "Python 3 (ipykernel)",
   "language": "python",
   "name": "python3"
  },
  "language_info": {
   "codemirror_mode": {
    "name": "ipython",
    "version": 3
   },
   "file_extension": ".py",
   "mimetype": "text/x-python",
   "name": "python",
   "nbconvert_exporter": "python",
   "pygments_lexer": "ipython3",
   "version": "3.11.4"
  }
 },
 "nbformat": 4,
 "nbformat_minor": 5
}
